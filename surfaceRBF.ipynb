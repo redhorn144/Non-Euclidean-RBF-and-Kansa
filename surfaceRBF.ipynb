{
 "cells": [
  {
   "cell_type": "markdown",
   "metadata": {},
   "source": [
    "We are going to display the ability to do RBF interpolation on a sphere using the geodesic distance as a metric."
   ]
  },
  {
   "cell_type": "code",
   "execution_count": 1,
   "metadata": {},
   "outputs": [],
   "source": [
    "# Imports\n",
    "%load_ext autoreload\n",
    "%autoreload 2\n",
    "\n",
    "from MRBF import MRBF\n",
    "import pygeodesic\n",
    "import pygeodesic.geodesic as geodesic\n",
    "import numpy as np\n",
    "import vtk\n",
    "from vtk_helpers import *"
   ]
  },
  {
   "cell_type": "markdown",
   "metadata": {},
   "source": [
    "First just read in the sphere data file and gather its vertices and faces"
   ]
  },
  {
   "cell_type": "code",
   "execution_count": 2,
   "metadata": {},
   "outputs": [],
   "source": [
    "# Read the mesh to get the points and faces of the mesh\n",
    "filename = r'data/sphere.ply'\n",
    "reader = vtk.vtkPLYReader()\n",
    "reader.SetFileName(filename)\n",
    "reader.Update()\n",
    "polydata = reader.GetOutput()\n",
    "points, faces = getPointsAndCellsFromPolydata(polydata)"
   ]
  },
  {
   "cell_type": "code",
   "execution_count": 3,
   "metadata": {},
   "outputs": [
    {
     "name": "stdout",
     "output_type": "stream",
     "text": [
      "[[  0   1   2]\n",
      " [  0   2   3]\n",
      " [  0   3   4]\n",
      " ...\n",
      " [418 421 419]\n",
      " [419 421 420]\n",
      " [420 421 391]]\n"
     ]
    }
   ],
   "source": [
    "print(faces)"
   ]
  },
  {
   "cell_type": "markdown",
   "metadata": {},
   "source": [
    "Over the next couple of cells we are going to define a simple function on that sphere where it is 1 if z >= 0 and -1 otherwise "
   ]
  },
  {
   "cell_type": "code",
   "execution_count": 4,
   "metadata": {},
   "outputs": [
    {
     "name": "stdout",
     "output_type": "stream",
     "text": [
      "z_max = 127.0 and z_min = -127.0\n"
     ]
    }
   ],
   "source": [
    "zs = np.transpose(points)[2]\n",
    "zmax = zs.max()\n",
    "zmin = zs.min()\n",
    "print(f\"z_max = {zmax} and z_min = {zmin}\")"
   ]
  },
  {
   "cell_type": "code",
   "execution_count": 5,
   "metadata": {},
   "outputs": [],
   "source": [
    "def f(points):\n",
    "    return np.array([-1 if point[2] < 0 else 1 for point in points])"
   ]
  },
  {
   "cell_type": "code",
   "execution_count": 6,
   "metadata": {},
   "outputs": [],
   "source": [
    "fs = f(points)"
   ]
  },
  {
   "cell_type": "markdown",
   "metadata": {},
   "source": [
    "Lets visualize the function on the sphere using these next 2 cells"
   ]
  },
  {
   "cell_type": "code",
   "execution_count": 9,
   "metadata": {},
   "outputs": [],
   "source": [
    "lut = vtk.vtkLookupTable()\n",
    "lut.SetTableRange((-1, 1))\n",
    "lut.Build()\n",
    "\n",
    "scalar_bar = vtk.vtkScalarBarActor()\n",
    "scalar_bar.SetOrientationToVertical()\n",
    "scalar_bar.SetLookupTable(lut)\n",
    "#print(lut)"
   ]
  },
  {
   "cell_type": "code",
   "execution_count": 10,
   "metadata": {},
   "outputs": [],
   "source": [
    "polydata_actor = createPolyDataActor(polydataFromPointsAndCells(points, faces))\n",
    "result = polydata_actor.GetMapper().GetInput().GetPointData().SetScalars(nps.numpy_to_vtk(fs))\n",
    "dmin = fs[np.where(fs != np.inf)].min()\n",
    "dmax = fs[np.where(fs != np.inf)].max()\n",
    "polydata_actor.GetMapper().SetScalarRange([dmin, dmax])"
   ]
  },
  {
   "cell_type": "code",
   "execution_count": 11,
   "metadata": {},
   "outputs": [],
   "source": [
    "v = Viewer()\n",
    "v.addActors([polydata_actor, scalar_bar])\n",
    "v.show()"
   ]
  },
  {
   "cell_type": "markdown",
   "metadata": {},
   "source": [
    "Now lets do some interpolation"
   ]
  },
  {
   "cell_type": "code",
   "execution_count": 12,
   "metadata": {},
   "outputs": [],
   "source": [
    "#select some indices to intepolate with, the first half that are even (very arbitary)\n",
    "indicesToInterpolateWith = np.array([i for i in range(len(points))])[::10]\n",
    "   "
   ]
  },
  {
   "cell_type": "code",
   "execution_count": 13,
   "metadata": {},
   "outputs": [
    {
     "name": "stdout",
     "output_type": "stream",
     "text": [
      "interpolating with 43 points\n",
      "built interpolation matrix of size (43, 43), solving system. . . \n",
      "solved system of equations\n"
     ]
    }
   ],
   "source": [
    "rbf = MRBF(points, faces, fs, indicesToInterpolateWith, kernel='multiquadric')"
   ]
  },
  {
   "cell_type": "code",
   "execution_count": 14,
   "metadata": {},
   "outputs": [
    {
     "name": "stdout",
     "output_type": "stream",
     "text": [
      "[-1.00021884 -1.00022407 -0.99967401 -0.99998052 -0.99936892 -0.99922455\n",
      " -0.99871159 -0.99871571 -0.99945563 -0.9991885  -1.00005155 -1.00099203\n",
      " -1.00037745 -1.00036879 -0.99954343 -0.99965465 -0.99966951 -1.00025901\n",
      " -1.00071018 -1.00082437 -1.00004937 -0.9993461  -0.99946568 -0.99866693\n",
      " -0.9990743  -0.99928743 -0.99912094 -1.00008332 -0.99975607 -1.00026861\n",
      " -1.00001051 -0.99728664 -0.99792406 -0.99937391 -1.00084905 -0.99914977\n",
      " -1.00247928 -1.0040669  -1.00152892 -1.00033638 -1.00039615 -0.99706279\n",
      " -0.99636098 -0.99442929 -0.99379317 -0.99253733 -0.99384814 -0.99490552\n",
      " -0.99692653 -0.99712471 -1.00041733 -0.99974321 -1.00143233 -1.00399946\n",
      " -1.00210696 -0.99955549 -1.00069112 -0.9995257  -0.9977747  -0.99706665\n",
      " -1.00019512 -1.00197061 -1.00065493 -1.01016178 -1.0118386  -1.01059881\n",
      " -1.00894738 -1.0058463  -1.00039111 -1.00198636 -1.0005935  -1.00112738\n",
      " -0.99483434 -0.99429436 -0.98680358 -0.98183946 -0.98794453 -0.99495439\n",
      " -0.9949     -1.00244683 -1.00059203 -1.00202281 -0.99991353 -1.00496282\n",
      " -1.00761497 -1.00902754 -1.01098022 -1.01045134 -1.00065453 -1.00156952\n",
      " -1.00056242 -1.00811266 -1.00560505 -0.99028472 -1.00152039 -1.00649199\n",
      " -0.99847317 -0.98227159 -0.98897594 -0.99377493 -1.00045826 -0.99736228\n",
      " -0.99386939 -0.97913951 -0.97653274 -0.96698276 -0.97835202 -0.97916487\n",
      " -0.99334306 -0.99840845 -1.0004185  -0.99449927 -0.98894412 -0.98199435\n",
      " -0.99759849 -1.00645224 -1.00133055 -0.98979919 -1.00602063 -1.00770274\n",
      " -1.0016881  -0.96314296 -0.92559089 -0.92539655 -0.95032992 -0.96942967\n",
      " -0.94563144 -0.91712769 -0.922006   -0.96754065 -1.00122839 -0.97481714\n",
      " -0.92421048 -0.92728595 -0.96734859 -0.99045184 -0.96295676 -0.92503429\n",
      " -0.92094809 -0.97530259 -1.00125553 -0.96796519 -0.92247188 -0.91787415\n",
      " -0.94489263 -0.96906745 -0.95007476 -0.92719772 -0.92712529 -0.96533782\n",
      " -1.00036782 -0.85362957 -0.72064971 -0.72093629 -0.84877798 -0.96131955\n",
      " -0.8377137  -0.73336709 -0.74286343 -0.88036266 -1.00114137 -0.86701212\n",
      " -0.73267688 -0.72573475 -0.84824886 -0.97404668 -0.84060807 -0.72130374\n",
      " -0.73038093 -0.8676146  -1.00112349 -0.88039654 -0.74282493 -0.73377416\n",
      " -0.83797558 -0.96093809 -0.84928701 -0.72302942 -0.72585926 -0.86148524\n",
      " -1.00097522 -0.43974044 -0.29171021 -0.28982693 -0.43735864 -0.91139283\n",
      " -0.42269204 -0.30460482 -0.29297159 -0.44187851 -0.9635388  -0.44441122\n",
      " -0.29308484 -0.30213828 -0.43291882 -0.91630796 -0.42591053 -0.29926918\n",
      " -0.29268176 -0.44408118 -0.96352892 -0.44165447 -0.2927186  -0.30437198\n",
      " -0.42292466 -0.91141224 -0.43741887 -0.29094412 -0.29500034 -0.44972949\n",
      " -0.96392156  0.43973182  0.29202447  0.29052753  0.43830525  0.90980049\n",
      "  0.42435946  0.30524354  0.29321972  0.4418369   0.9635374   0.44458077\n",
      "  0.29358382  0.30277759  0.43416746  0.91447202  0.4268685   0.30000735\n",
      "  0.29308545  0.44420125  0.96353411  0.44194994  0.29317545  0.30519113\n",
      "  0.42355456  0.9100342   0.43872342  0.29176436  0.29532889  0.44984384\n",
      "  0.96392378  0.85387028  0.72106722  0.7214053   0.84944848  0.96277246\n",
      "  0.83891547  0.73421635  0.74349881  0.88046806  1.00114398  0.86715671\n",
      "  0.73302393  0.72616986  0.84940481  0.97598675  0.84184722  0.72227671\n",
      "  0.73089737  0.86775507  1.00112397  0.88048874  0.74293397  0.7343707\n",
      "  0.83906184  0.96287503  0.85091345  0.72405538  0.72610821  0.861392\n",
      "  1.00097686  0.96322237  0.9256418   0.92593429  0.95111922  0.97005911\n",
      "  0.94632602  0.91793798  0.92246436  0.96765083  1.00123252  0.97501735\n",
      "  0.92464979  0.92808688  0.96849595  0.99213619  0.96424179  0.92565274\n",
      "  0.92139512  0.97543008  1.00125827  0.96812996  0.92278145  0.91855932\n",
      "  0.9465342   0.97061691  0.95170222  0.92824039  0.92774271  0.96542281\n",
      "  1.0003701   1.00813513  1.00590807  0.99119718  1.00306426  1.00800288\n",
      "  0.99988156  0.9829417   0.98937     0.99386161  1.00046428  0.99777234\n",
      "  0.99454062  0.97993193  0.97800113  0.96856681  0.97952082  0.97979935\n",
      "  0.99359803  0.99836688  1.00041809  0.99466331  0.98939379  0.9828601\n",
      "  0.99878587  1.00764544  1.00239868  0.99051489  1.00644663  1.00785514\n",
      "  1.00169205  1.00225461  1.00123462  1.01117445  1.01288047  1.01196747\n",
      "  1.00984619  1.00649099  1.00068492  1.00206785  1.00060324  1.00129987\n",
      "  0.99531872  0.99522863  0.98787885  0.98323418  0.98875283  0.99566585\n",
      "  0.99543527  1.00264373  1.00059377  1.00220006  1.00050587  1.00595723\n",
      "  1.00876387  1.01049381  1.01198449  1.01119571  1.0008815   1.00152095\n",
      "  1.00056814  0.99745905  0.99843     1.000181    1.00178123  1.00056226\n",
      "  1.00356505  1.00467336  1.00191994  1.00041622  1.00040381  0.99727384\n",
      "  0.99697384  0.99496847  0.99470673  0.99393707  0.99488937  0.99550619\n",
      "  0.99747159  0.99738235  1.00043934  1.00007728  1.00203566  1.00480998\n",
      "  1.00338887  1.00096255  1.00165603  1.00033486  0.99828023  0.99722155\n",
      "  1.00020872  1.00049391  1.00028815  1.00082255  1.00063979  1.0006656\n",
      "  0.9999238   0.99943428  1.00001961  0.99950406  1.00009794  1.00124326\n",
      "  1.00100093  1.00113276  1.00065026  1.00105048  1.00074805  1.00089846\n",
      "  1.00127265  1.00107182  1.00008574  0.99959268  0.99993914  0.99929212\n",
      "  1.00017729  1.0006788   1.00033082  1.00079637  1.00022125  1.00049085\n",
      "  1.00005834  1.00106761]\n"
     ]
    }
   ],
   "source": [
    "interps = np.array([rbf.Interpolate(i) for i in range(len(points))])\n",
    "print(interps)"
   ]
  },
  {
   "cell_type": "code",
   "execution_count": 15,
   "metadata": {},
   "outputs": [
    {
     "name": "stdout",
     "output_type": "stream",
     "text": [
      "(-1.0118385950431412, 1.0128804677353496)\n"
     ]
    }
   ],
   "source": [
    "print((interps.min(), interps.max()))"
   ]
  },
  {
   "cell_type": "code",
   "execution_count": 16,
   "metadata": {},
   "outputs": [],
   "source": [
    "lut = vtk.vtkLookupTable()\n",
    "lut.SetTableRange((interps.min(), interps.max()))\n",
    "lut.Build()\n",
    "\n",
    "scalar_bar = vtk.vtkScalarBarActor()\n",
    "scalar_bar.SetOrientationToVertical()\n",
    "scalar_bar.SetLookupTable(lut)\n",
    "#print(lut)\n"
   ]
  },
  {
   "cell_type": "code",
   "execution_count": 17,
   "metadata": {},
   "outputs": [],
   "source": [
    "polydata_actor = createPolyDataActor(polydataFromPointsAndCells(points, faces))\n",
    "result = polydata_actor.GetMapper().GetInput().GetPointData().SetScalars(nps.numpy_to_vtk(interps))\n",
    "dmin = interps[np.where(interps != np.inf)].min()\n",
    "dmax = interps[np.where(interps != np.inf)].max()\n",
    "polydata_actor.GetMapper().SetScalarRange([dmin, dmax])"
   ]
  },
  {
   "cell_type": "code",
   "execution_count": 18,
   "metadata": {},
   "outputs": [],
   "source": [
    "v = Viewer()\n",
    "v.addActors([polydata_actor, scalar_bar])\n",
    "v.show()"
   ]
  },
  {
   "cell_type": "markdown",
   "metadata": {},
   "source": [
    "now lets use a traditional rbf, in $\\mathbb{R}^3$"
   ]
  },
  {
   "cell_type": "code",
   "execution_count": 19,
   "metadata": {},
   "outputs": [],
   "source": [
    "from lazyfit.Rbf import Rbf"
   ]
  },
  {
   "cell_type": "code",
   "execution_count": 20,
   "metadata": {},
   "outputs": [],
   "source": [
    "reducedPoints = np.array([points[i] for i in indicesToInterpolateWith])\n",
    "reducedFs = np.array([fs[i] for i in indicesToInterpolateWith])\n",
    "\n",
    "\n",
    "rbf2 = Rbf(reducedPoints, reducedFs, kernel='linear')"
   ]
  },
  {
   "cell_type": "code",
   "execution_count": 21,
   "metadata": {},
   "outputs": [],
   "source": [
    "interps2 = np.array([rbf2.Interpolate(point) for point in points])"
   ]
  },
  {
   "cell_type": "code",
   "execution_count": 25,
   "metadata": {},
   "outputs": [],
   "source": [
    "lut = vtk.vtkLookupTable()\n",
    "lut.SetTableRange((interps2.min(), interps2.max()))\n",
    "lut.Build()\n",
    "\n",
    "scalar_bar = vtk.vtkScalarBarActor()\n",
    "scalar_bar.SetOrientationToVertical()\n",
    "scalar_bar.SetLookupTable(lut)\n",
    "#print(lut)\n"
   ]
  },
  {
   "cell_type": "code",
   "execution_count": 26,
   "metadata": {},
   "outputs": [],
   "source": [
    "polydata_actor = createPolyDataActor(polydataFromPointsAndCells(points, faces))\n",
    "result = polydata_actor.GetMapper().GetInput().GetPointData().SetScalars(nps.numpy_to_vtk(interps2))\n",
    "dmin = interps2[np.where(interps2 != np.inf)].min()\n",
    "dmax = interps2[np.where(interps2 != np.inf)].max()\n",
    "polydata_actor.GetMapper().SetScalarRange([dmin, dmax])"
   ]
  },
  {
   "cell_type": "code",
   "execution_count": 27,
   "metadata": {},
   "outputs": [],
   "source": [
    "v = Viewer()\n",
    "v.addActors([polydata_actor, scalar_bar])\n",
    "v.show()"
   ]
  },
  {
   "cell_type": "code",
   "execution_count": null,
   "metadata": {},
   "outputs": [],
   "source": []
  }
 ],
 "metadata": {
  "kernelspec": {
   "display_name": "Python 3",
   "language": "python",
   "name": "python3"
  },
  "language_info": {
   "codemirror_mode": {
    "name": "ipython",
    "version": 3
   },
   "file_extension": ".py",
   "mimetype": "text/x-python",
   "name": "python",
   "nbconvert_exporter": "python",
   "pygments_lexer": "ipython3",
   "version": "3.9.2"
  }
 },
 "nbformat": 4,
 "nbformat_minor": 2
}
